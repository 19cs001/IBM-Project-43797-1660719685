{
 "cells": [
  {
   "cell_type": "code",
   "execution_count": null,
   "id": "4132203e",
   "metadata": {},
   "outputs": [],
   "source": [
    "import pandas as pd\n",
    "import numpy as np\n",
    "import matplotlib.pyplot as plt\n",
    "import seaborn as sns\n",
    "\n",
    "from sklearn.model_selection import train_test_split\n",
    "from sklearn.preprocessing import StandardScaler\n",
    "import statsmodels.api as sma\n",
    "from statsmodels.stats.outliers_influence import variance_inflation_factor\n",
    "\n",
    "from sklearn.linear_model import LogisticRegression\n",
    "from sklearn.svm import SVC\n",
    "from sklearn.neighbors import KNeighborsClassifier\n",
    "from sklearn.tree import DecisionTreeClassifier\n",
    "from sklearn.model_selection import cross_val_score\n",
    "\n",
    "from sklearn.model_selection import GridSearchCV\n",
    "from sklearn.metrics import classification_report\n",
    "from sklearn.metrics import confusion_matrix\n",
    "import warnings\n",
    "warnings.filterwarnings('ignore')"
   ]
  },
  {
   "cell_type": "code",
   "execution_count": null,
   "id": "56098058",
   "metadata": {},
   "outputs": [],
   "source": [
    "dataset = pd.read_csv(\"MCD.csv\")"
   ]
  },
  {
   "cell_type": "code",
   "execution_count": null,
   "id": "9f3a4d41",
   "metadata": {},
   "outputs": [],
   "source": [
    "dataset.head()"
   ]
  },
  {
   "cell_type": "code",
   "execution_count": null,
   "id": "0b546204",
   "metadata": {},
   "outputs": [],
   "source": [
    "df.shape"
   ]
  },
  {
   "cell_type": "code",
   "execution_count": null,
   "id": "38e79619",
   "metadata": {
    "scrolled": true
   },
   "outputs": [],
   "source": [
    "df.describe()"
   ]
  },
  {
   "cell_type": "code",
   "execution_count": null,
   "id": "eea182ae",
   "metadata": {},
   "outputs": [],
   "source": [
    "#Changing the name of some columns\n",
    "df = df.rename(columns={'Annual Income (k$)': 'Annual_income', 'Spending Score (1-100)': 'Spending_score'})"
   ]
  },
  {
   "cell_type": "code",
   "execution_count": null,
   "id": "9deec67a",
   "metadata": {},
   "outputs": [],
   "source": [
    "#Replacing objects for numerical values\n",
    "df['Gender'].replace(['Female','Male'], [0,1],inplace=True)"
   ]
  },
  {
   "cell_type": "markdown",
   "id": "3b42beb3",
   "metadata": {},
   "source": [
    "# Univariate Analysis , Bivariate , Multivariate"
   ]
  },
  {
   "cell_type": "code",
   "execution_count": null,
   "id": "26278d45",
   "metadata": {
    "scrolled": true
   },
   "outputs": [],
   "source": [
    "df_Gender=df.loc[df['Gender']=='Female']\n"
   ]
  },
  {
   "cell_type": "code",
   "execution_count": null,
   "id": "94c50263",
   "metadata": {},
   "outputs": [],
   "source": [
    "plt.plot(df_Gender['Age'], np.zeros_like(df_Gender['Age']))\n",
    "plt.xlabel('Spending Score(1-100)')\n",
    "plt.show()"
   ]
  },
  {
   "cell_type": "code",
   "execution_count": null,
   "id": "6cc735d5",
   "metadata": {},
   "outputs": [],
   "source": [
    "#Checking values have been replaced properly\n",
    "df.Gender"
   ]
  },
  {
   "cell_type": "code",
   "execution_count": null,
   "id": "f55d2b70",
   "metadata": {},
   "outputs": [],
   "source": [
    "#Density estimation of values using distplot\n",
    "plt.figure(1 , figsize = (15 , 6))\n",
    "feature_list = ['Age','Annual_income', \"Spending_score\"]\n",
    "feature_listt = ['Age','Annual_income', \"Spending_score\"]\n",
    "pos = 1 \n",
    "for i in feature_list:\n",
    "    plt.subplot(1 , 3 , pos)\n",
    "    plt.subplots_adjust(hspace = 0.5 , wspace = 0.5)\n",
    "    sns.distplot(df[i], bins=20, kde = True)\n",
    "    pos = pos + 1\n",
    "plt.show()"
   ]
  },
  {
   "cell_type": "code",
   "execution_count": null,
   "id": "7202893c",
   "metadata": {},
   "outputs": [],
   "source": [
    "#Count and plot gender\n",
    "sns.countplot(y = 'Gender', data = df, palette=\"husl\", hue = \"Gender\")\n",
    "df[\"Gender\"].value_counts()"
   ]
  },
  {
   "cell_type": "code",
   "execution_count": null,
   "id": "c02fc0e2",
   "metadata": {},
   "outputs": [],
   "source": [
    "#Pairplot with variables we want to study\n",
    "sns.pairplot(df, vars=[\"Age\", \"Annual_income\", \"Spending_score\"],  kind =\"reg\", hue = \"Gender\", palette=\"husl\", markers = ['o','D'])"
   ]
  },
  {
   "cell_type": "markdown",
   "id": "dd15f30c",
   "metadata": {},
   "source": [
    "# Statistic Analysis"
   ]
  },
  {
   "cell_type": "code",
   "execution_count": null,
   "id": "80fdd61e",
   "metadata": {},
   "outputs": [],
   "source": [
    "df.head()"
   ]
  },
  {
   "cell_type": "code",
   "execution_count": null,
   "id": "72a1e6db",
   "metadata": {},
   "outputs": [],
   "source": [
    "df.describe()"
   ]
  },
  {
   "cell_type": "code",
   "execution_count": null,
   "id": "2d778f49",
   "metadata": {},
   "outputs": [],
   "source": [
    "df.info()"
   ]
  },
  {
   "cell_type": "code",
   "execution_count": null,
   "id": "ab3faca0",
   "metadata": {},
   "outputs": [],
   "source": [
    "df['Annual_income'].value_counts().to_frame()"
   ]
  },
  {
   "cell_type": "markdown",
   "id": "e8524cfc",
   "metadata": {},
   "source": [
    "# Missing Values"
   ]
  },
  {
   "cell_type": "code",
   "execution_count": null,
   "id": "de46db16",
   "metadata": {},
   "outputs": [],
   "source": [
    "df[df.duplicated()]"
   ]
  },
  {
   "cell_type": "code",
   "execution_count": null,
   "id": "d2bd45ec",
   "metadata": {},
   "outputs": [],
   "source": [
    "df.isna().sum()"
   ]
  },
  {
   "cell_type": "markdown",
   "id": "438c0ae2",
   "metadata": {},
   "source": [
    "# Replace the outliers"
   ]
  },
  {
   "cell_type": "code",
   "execution_count": null,
   "id": "9cd8013e",
   "metadata": {},
   "outputs": [],
   "source": [
    "for i in df:\n",
    "    if df[i].dtype=='int64' or df[i].dtypes=='float64':\n",
    "        q1=df[i].quantile(0.25)\n",
    "        q3=df[i].quantile(0.75)\n",
    "        iqr=q3-q1\n",
    "        upper=q3+1.5*iqr\n",
    "        lower=q1-1.5*iqr\n",
    "        df[i]=np.where(df[i] >upper, upper, df[i])\n",
    "        df[i]=np.where(df[i] <lower, lower, df[i])"
   ]
  },
  {
   "cell_type": "code",
   "execution_count": null,
   "id": "64da6e1c",
   "metadata": {},
   "outputs": [],
   "source": [
    "import matplotlib.pyplot as mtp"
   ]
  },
  {
   "cell_type": "code",
   "execution_count": null,
   "id": "fa02a434",
   "metadata": {},
   "outputs": [],
   "source": [
    "def box_scatter(df, x, y):    \n",
    "    fig, (ax1, ax2) = plt.subplots(nrows=2, ncols=1, figsize=(16,6))\n",
    "    sns.boxplot(df=df, x=x, ax=ax1)\n",
    "    sns.scatterplot(df=df, x=x,y=y,ax=ax2)\n",
    "for i in df:\n",
    "    if df[i].dtype=='int64' or df[i].dtypes=='float64':\n",
    "        mtp.boxplot(df[i])\n",
    "        mtp.show()"
   ]
  },
  {
   "cell_type": "markdown",
   "id": "7e48fb0f",
   "metadata": {},
   "source": [
    "# Encoding"
   ]
  },
  {
   "cell_type": "code",
   "execution_count": null,
   "id": "379bbc7d",
   "metadata": {},
   "outputs": [],
   "source": [
    "df.head()"
   ]
  },
  {
   "cell_type": "code",
   "execution_count": null,
   "id": "f0dcc712",
   "metadata": {},
   "outputs": [],
   "source": [
    "from sklearn.preprocessing import LabelEncoder\n",
    "encoder=LabelEncoder()\n",
    "df['Age']=encoder.fit_transform(df['Age'])\n",
    "df.head()"
   ]
  },
  {
   "cell_type": "code",
   "execution_count": null,
   "id": "11e242b6",
   "metadata": {},
   "outputs": [],
   "source": [
    "x=df.iloc[:,:-1]\n",
    "x.head()"
   ]
  },
  {
   "cell_type": "markdown",
   "id": "9e0ad9b0",
   "metadata": {},
   "source": [
    "# Independent Variable Scaling"
   ]
  },
  {
   "cell_type": "code",
   "execution_count": null,
   "id": "b4f3ff53",
   "metadata": {},
   "outputs": [],
   "source": [
    "from sklearn.preprocessing import StandardScaler\n",
    "scaler=StandardScaler()\n",
    "x=scaler.fit_transform(x)"
   ]
  },
  {
   "cell_type": "markdown",
   "id": "24efaccf",
   "metadata": {},
   "source": [
    "# Cluster data"
   ]
  },
  {
   "cell_type": "code",
   "execution_count": null,
   "id": "18d6c36b",
   "metadata": {},
   "outputs": [],
   "source": [
    "#Creating values for the elbow\n",
    "from sklearn.cluster import KMeans\n",
    "X = df.loc[:,[\"Age\", \"Annual_income\", \"Spending_score\"]]\n",
    "inertia = []\n",
    "k = range(1,20)\n",
    "for i in k:\n",
    "    means_k = KMeans(n_clusters=i, random_state=0)\n",
    "    means_k.fit(X)\n",
    "    inertia.append(means_k.inertia_)"
   ]
  },
  {
   "cell_type": "code",
   "execution_count": null,
   "id": "8bd36fe5",
   "metadata": {},
   "outputs": [],
   "source": [
    "#Plotting the elbow\n",
    "plt.plot(k , inertia , 'bo-')\n",
    "plt.xlabel('Number of Clusters') , plt.ylabel('Inertia')\n",
    "plt.show()"
   ]
  },
  {
   "cell_type": "markdown",
   "id": "ee4f6b22",
   "metadata": {},
   "source": [
    "# Clustering"
   ]
  },
  {
   "cell_type": "code",
   "execution_count": null,
   "id": "bdf08c69",
   "metadata": {},
   "outputs": [],
   "source": [
    "#Training kmeans with 5 clusters\n",
    "means_k = KMeans(n_clusters=5, random_state=0)\n",
    "means_k.fit(X)\n",
    "labels = means_k.labels_\n",
    "centroids = means_k.cluster_centers_"
   ]
  },
  {
   "cell_type": "code",
   "execution_count": null,
   "id": "cf27c6f2",
   "metadata": {},
   "outputs": [],
   "source": [
    "pip install plotly"
   ]
  },
  {
   "cell_type": "code",
   "execution_count": null,
   "id": "9d30ff79",
   "metadata": {},
   "outputs": [],
   "source": [
    "#Create a 3d plot to view the data sepparation made by Kmeans\n",
    "\n",
    "\n",
    "\n",
    "\n",
    "\n",
    "import plotly.express as px\n",
    "import plotly.graph_objs as go\n",
    "\n",
    "\n",
    "\n",
    "trace1 = go.Scatter3d(\n",
    "    x= X['Spending_score'],\n",
    "    y= X['Annual_income'],\n",
    "    z= X['Age'],\n",
    "    mode='markers',\n",
    "     marker=dict(\n",
    "        color = labels, \n",
    "        size= 10,\n",
    "        line=dict(\n",
    "            color= labels,\n",
    "        ),\n",
    "        opacity = 0.9\n",
    "     )\n",
    ")\n",
    "layout = go.Layout(\n",
    "    title= 'Clusters',\n",
    "    scene = dict(\n",
    "            xaxis = dict(title  = 'Spending_score'),\n",
    "            yaxis = dict(title  = 'Annual_income'),\n",
    "            zaxis = dict(title  = 'Age')\n",
    "        )\n",
    ")\n",
    "fig = go.Figure(data=trace1, layout=layout)\n",
    "py.offline.iplot(fig)"
   ]
  },
  {
   "cell_type": "markdown",
   "id": "49941e53",
   "metadata": {},
   "source": [
    "# Splitting Data"
   ]
  },
  {
   "cell_type": "code",
   "execution_count": null,
   "id": "47322796",
   "metadata": {},
   "outputs": [],
   "source": [
    "from sklearn.model_selection import train_test_split"
   ]
  },
  {
   "cell_type": "code",
   "execution_count": null,
   "id": "ecc99a28",
   "metadata": {},
   "outputs": [],
   "source": [
    "from sklearn import datasets \n",
    "from sklearn.model_selection import train_test_split\n",
    "\n",
    "digits=datasets.load_digits()\n",
    "\n",
    "x=digits.data\n",
    "print();print(X.shape)\n",
    "\n",
    "y=digits.target\n",
    "print();print(Y.shape)\n",
    "\n",
    "x_train,x_test,y_train,y_test = train_test_split(x,y,test_size=0.33,random_state=42)\n",
    "\n",
    "print(); print(x_train.shape)\n",
    "print(); print(x_test.shape)\n",
    "print(); print(y_train.shape)\n",
    "print(); print(y_test.shape)"
   ]
  },
  {
   "cell_type": "markdown",
   "id": "ba14f8f4",
   "metadata": {},
   "source": [
    "# Build the model"
   ]
  },
  {
   "cell_type": "code",
   "execution_count": null,
   "id": "48ee7731",
   "metadata": {},
   "outputs": [],
   "source": [
    "from sklearn.ensemble import RandomForestRegressor\n",
    "reg=RandomForestRegressor()"
   ]
  },
  {
   "cell_type": "markdown",
   "id": "b15ffed0",
   "metadata": {},
   "source": [
    "# Train the model"
   ]
  },
  {
   "cell_type": "code",
   "execution_count": null,
   "id": "027e4fe5",
   "metadata": {},
   "outputs": [],
   "source": [
    "reg.fit(x_train,y_train)"
   ]
  },
  {
   "cell_type": "markdown",
   "id": "828f0d49",
   "metadata": {},
   "source": [
    "# Test the model"
   ]
  },
  {
   "cell_type": "code",
   "execution_count": null,
   "id": "8c62cc0f",
   "metadata": {},
   "outputs": [],
   "source": [
    "y_pred=reg.predict(x_test)"
   ]
  },
  {
   "cell_type": "markdown",
   "id": "d09d9a2a",
   "metadata": {},
   "source": [
    "# Performance mesurement"
   ]
  },
  {
   "cell_type": "code",
   "execution_count": null,
   "id": "04a86d25",
   "metadata": {},
   "outputs": [],
   "source": [
    "from sklearn.metrics import mean_squared_error\n",
    "import math\n",
    "print(math.sqrt(mean_squared_error(y_test,y_pred)))"
   ]
  }
 ],
 "metadata": {
  "kernelspec": {
   "display_name": "Python 3",
   "language": "python",
   "name": "python3"
  },
  "language_info": {
   "codemirror_mode": {
    "name": "ipython",
    "version": 3
   },
   "file_extension": ".py",
   "mimetype": "text/x-python",
   "name": "python",
   "nbconvert_exporter": "python",
   "pygments_lexer": "ipython3",
   "version": "3.8.8"
  }
 },
 "nbformat": 4,
 "nbformat_minor": 5
}
